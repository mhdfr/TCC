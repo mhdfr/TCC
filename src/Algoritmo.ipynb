{
 "cells": [
  {
   "cell_type": "code",
   "execution_count": null,
   "metadata": {},
   "outputs": [],
   "source": [
    "import sys\n",
    "import xgboost\n",
    "import pandas as pd\n",
    "import numpy as np\n",
    "import seaborn as sns\n",
    "import matplotlib.pyplot as plt\n",
    "from sklearn.preprocessing import OneHotEncoder\n",
    "from sklearn.preprocessing import MinMaxScaler\n",
    "from sklearn.model_selection import train_test_split\n",
    "from sklearn.linear_model import LogisticRegression\n",
    "from sklearn.model_selection import KFold\n",
    "from sklearn.model_selection import cross_val_score\n",
    "from sklearn.metrics import confusion_matrix\n",
    "\n",
    "if not sys.warnoptions:\n",
    "    import warnings\n",
    "    warnings.simplefilter(\"ignore\")"
   ]
  },
  {
   "cell_type": "code",
   "execution_count": null,
   "metadata": {},
   "outputs": [],
   "source": [
    "data = pd.read_csv('../resources/train_values.csv')\n",
    "data = data.drop(columns = ['patient_id'])\n",
    "\n",
    "target = pd.read_csv('../resources/train_labels.csv')\n",
    "target = target.drop(columns = 'patient_id')"
   ]
  },
  {
   "cell_type": "code",
   "execution_count": null,
   "metadata": {},
   "outputs": [],
   "source": [
    "data['Presença_de_Doença'] = target['heart_disease_present']"
   ]
  },
  {
   "cell_type": "code",
   "execution_count": null,
   "metadata": {
    "scrolled": false
   },
   "outputs": [],
   "source": [
    "ax = sns.countplot(x = \"slope_of_peak_exercise_st_segment\", hue = \"Presença_de_Doença\", data = data)"
   ]
  },
  {
   "cell_type": "code",
   "execution_count": null,
   "metadata": {},
   "outputs": [],
   "source": [
    "ax = sns.countplot(x = \"sex\", hue = \"Presença_de_Doença\", data = data)"
   ]
  },
  {
   "cell_type": "code",
   "execution_count": null,
   "metadata": {},
   "outputs": [],
   "source": [
    "ax = sns.countplot(x = \"thal\", hue = \"Presença_de_Doença\", data = data)"
   ]
  },
  {
   "cell_type": "code",
   "execution_count": null,
   "metadata": {},
   "outputs": [],
   "source": [
    "ax = sns.countplot(x = \"exercise_induced_angina\", hue = \"Presença_de_Doença\", data = data)"
   ]
  },
  {
   "cell_type": "code",
   "execution_count": null,
   "metadata": {},
   "outputs": [],
   "source": [
    "ax = sns.countplot(x = \"num_major_vessels\", hue = \"Presença_de_Doença\", data = data)"
   ]
  },
  {
   "cell_type": "code",
   "execution_count": null,
   "metadata": {},
   "outputs": [],
   "source": [
    " g = sns.catplot(x = \"num_major_vessels\",\n",
    "                 hue = \"Presença_de_Doença\",\n",
    "                 col = \"sex\",\n",
    "                 data = data,\n",
    "                 kind = \"count\",\n",
    "                 height = 4,\n",
    "                 aspect = .7);"
   ]
  },
  {
   "cell_type": "code",
   "execution_count": null,
   "metadata": {},
   "outputs": [],
   "source": [
    "g = sns.catplot(x = \"chest_pain_type\",\n",
    "                hue = \"Presença_de_Doença\",\n",
    "                col = \"sex\",\n",
    "                data = data,\n",
    "                kind = \"count\",\n",
    "                height = 4,\n",
    "                aspect = .7);"
   ]
  },
  {
   "cell_type": "code",
   "execution_count": null,
   "metadata": {},
   "outputs": [],
   "source": [
    "g = sns.catplot(x = \"exercise_induced_angina\",\n",
    "                hue = \"Presença_de_Doença\",\n",
    "                col = \"sex\",\n",
    "                data = data,\n",
    "                kind = \"count\",\n",
    "                height = 4, aspect = .7);"
   ]
  },
  {
   "cell_type": "code",
   "execution_count": null,
   "metadata": {},
   "outputs": [],
   "source": [
    "g = sns.catplot(x = \"slope_of_peak_exercise_st_segment\",\n",
    "                hue = \"Presença_de_Doença\",\n",
    "                col = \"sex\",\n",
    "                data = data,\n",
    "                kind = \"count\",\n",
    "                height = 4,\n",
    "                aspect = .7);"
   ]
  },
  {
   "cell_type": "code",
   "execution_count": null,
   "metadata": {},
   "outputs": [],
   "source": [
    "g = sns.catplot(x = \"slope_of_peak_exercise_st_segment\",\n",
    "                hue = \"Presença_de_Doença\",\n",
    "                col = \"chest_pain_type\",\n",
    "                data = data,\n",
    "                kind = \"count\",\n",
    "                height = 4,\n",
    "                aspect = .7);"
   ]
  },
  {
   "cell_type": "code",
   "execution_count": null,
   "metadata": {},
   "outputs": [],
   "source": [
    "g = sns.catplot(x = \"slope_of_peak_exercise_st_segment\",\n",
    "                hue = \"Presença_de_Doença\",\n",
    "                col = \"num_major_vessels\",\n",
    "                data = data,\n",
    "                kind = \"count\",\n",
    "                height = 4,\n",
    "                aspect = .7);"
   ]
  },
  {
   "cell_type": "code",
   "execution_count": null,
   "metadata": {},
   "outputs": [],
   "source": [
    "encoder = OneHotEncoder(categories = 'auto', sparse = False)\n",
    "\n",
    "x = data['sex'].values\n",
    "x = x.reshape(len(x), 1)\n",
    "x = encoder.fit_transform(x)\n",
    "data[\"Male\"] = x[:,0]\n",
    "data[\"Female\"] = x[:,1]\n",
    "\n",
    "x = data['resting_ekg_results'].values\n",
    "x = x.reshape(len(x), 1)\n",
    "x = encoder.fit_transform(x)\n",
    "data[\"tipo_0\"] = x[:,0]\n",
    "data[\"tipo_1\"] = x[:,1]\n",
    "data[\"tipo_2\"] = x[:,2]\n",
    "\n",
    "x = data['thal'].values\n",
    "x = x.reshape(len(x), 1)\n",
    "x = encoder.fit_transform(x)\n",
    "data[\"thal_normal\"] = x[:,0]\n",
    "data[\"thal_reversible_defect\"] = x[:,1]\n",
    "data[\"thal_fixed_defect\"] = x[:,2]\n",
    "\n",
    "x = data['chest_pain_type'].values\n",
    "x = x.reshape(len(x), 1)\n",
    "x = encoder.fit_transform(x)\n",
    "data[\"type_1\"] = x[:,0]\n",
    "data[\"type_2\"] = x[:,1]\n",
    "data[\"type_3\"] = x[:,2]\n",
    "data['type_4'] = x[:,3]\n",
    "\n",
    "x = data['slope_of_peak_exercise_st_segment'].values\n",
    "x = x.reshape(len(x), 1)\n",
    "x = encoder.fit_transform(x)\n",
    "data[\"slope_type_1\"] = x[:,0]\n",
    "data[\"slope_type_2\"] = x[:,1]\n",
    "data[\"slope_type_3\"] = x[:,2]\n",
    "\n",
    "data = data.drop(columns = ['resting_ekg_results'])\n",
    "data = data.drop(columns = ['sex'])\n",
    "data = data.drop(columns = ['thal'])\n",
    "data = data.drop(columns = ['chest_pain_type'])\n",
    "data = data.drop(columns = ['slope_of_peak_exercise_st_segment'])\n",
    "\n",
    "data"
   ]
  },
  {
   "cell_type": "code",
   "execution_count": null,
   "metadata": {},
   "outputs": [],
   "source": [
    "x_train, x_test, y_train, y_test = train_test_split(data, target, test_size = 0.3, random_state = 42)\n",
    "\n",
    "scaler = MinMaxScaler()\n",
    "\n",
    "features = ['resting_blood_pressure', 'serum_cholesterol_mg_per_dl', 'age', 'max_heart_rate_achieved']\n",
    "\n",
    "bases = [x_train, x_test]\n",
    "\n",
    "def Scaler(features):\n",
    "    for base in bases:\n",
    "        for feature in features:\n",
    "            t = base[feature].values\n",
    "            t = t.reshape(len(t), 1)\n",
    "            t = scaler.fit_transform(t)\n",
    "            base[feature] = t[:, 0]\n",
    "\n",
    "Scaler(features)"
   ]
  },
  {
   "cell_type": "code",
   "execution_count": null,
   "metadata": {},
   "outputs": [],
   "source": [
    "model = xgboost.XGBClassifier(random_state = 42, penalty = 'l1', max_depth = 2)\n",
    "\n",
    "kfold = KFold(n_splits = 3, random_state = 42)\n",
    "\n",
    "results = cross_val_score(model, x_train, y_train, cv = kfold)\n",
    "\n",
    "print(\"Accuracy: %.2f%% (%.2f%%)\" % (results.mean() * 100, results.std() * 100))"
   ]
  },
  {
   "cell_type": "code",
   "execution_count": null,
   "metadata": {},
   "outputs": [],
   "source": [
    "model.fit(x_train, y_train)\n",
    "\n",
    "y_pred = model.predict(x_test)\n",
    "\n",
    "y_pred\n",
    "confusion_matrix(y_test, y_pred)"
   ]
  },
  {
   "cell_type": "code",
   "execution_count": null,
   "metadata": {},
   "outputs": [],
   "source": []
  }
 ],
 "metadata": {
  "kernelspec": {
   "display_name": "Python 3",
   "language": "python",
   "name": "python3"
  },
  "language_info": {
   "codemirror_mode": {
    "name": "ipython",
    "version": 3
   },
   "file_extension": ".py",
   "mimetype": "text/x-python",
   "name": "python",
   "nbconvert_exporter": "python",
   "pygments_lexer": "ipython3",
   "version": "3.7.3"
  }
 },
 "nbformat": 4,
 "nbformat_minor": 2
}
